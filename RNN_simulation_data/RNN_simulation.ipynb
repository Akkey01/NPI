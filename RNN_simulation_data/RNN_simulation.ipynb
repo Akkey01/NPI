{
 "cells": [
  {
   "cell_type": "code",
   "execution_count": 1,
   "metadata": {},
   "outputs": [],
   "source": [
    "import numpy as np"
   ]
  },
  {
   "cell_type": "markdown",
   "metadata": {},
   "source": [
    "$$\n",
    "{\\rm d}\\boldsymbol{x}(t)=[-\\boldsymbol{x}(t)+\\boldsymbol{W}\\cdot h(\\boldsymbol{x}(t))]\\cdot{\\rm d}t+\\sigma\\cdot{\\rm d}\\boldsymbol{\\xi}(t)\n",
    "$$"
   ]
  },
  {
   "cell_type": "markdown",
   "metadata": {},
   "source": [
    "$$\n",
    "\\boldsymbol{x}(t+\\Delta t) \\approx \\boldsymbol{x}(t) + [-\\boldsymbol{x}(t)+\\boldsymbol{W}\\cdot h(\\boldsymbol{x}(t))]\\cdot\\Delta t + \\sigma\\sqrt{\\Delta t}\\cdot\\boldsymbol{Z}(t),\\,\n",
    "\\boldsymbol{Z}(t)\\sim\\mathcal{N}(\\boldsymbol{0},\\,\\boldsymbol{I}_n)\n",
    "$$"
   ]
  },
  {
   "cell_type": "code",
   "execution_count": 2,
   "metadata": {},
   "outputs": [],
   "source": [
    "dt          = 0.01\n",
    "TR          = 1\n",
    "down_sample = int(TR/dt)\n",
    "sigma       = 10"
   ]
  },
  {
   "cell_type": "code",
   "execution_count": 3,
   "metadata": {},
   "outputs": [],
   "source": [
    "def h(x):\n",
    "    return np.tanh(x)\n",
    "\n",
    "def NextTR(W, X_init, noise):\n",
    "    X_res = X_init.copy()\n",
    "    for i in range(down_sample): X_res = X_res + (-X_res + np.dot(W.T, h(X_res))) * dt + noise[i]\n",
    "    return X_res\n",
    "\n",
    "def RNN(W, X_init, length, pert_strength = 1.0, pert_step = 200):\n",
    "    np.random.seed(0)\n",
    "    n = len(X_init); X = [X_init]\n",
    "    real_EC = np.zeros((n, n)); pert_count = 0\n",
    "    for i in range(1, length):\n",
    "        noise = (sigma * dt) * np.random.normal(0, 1, (down_sample, n))\n",
    "        X.append(NextTR(W, X[-1], noise))\n",
    "        if i % pert_step == 0:\n",
    "            pert_count += 1\n",
    "            for j in range(n):\n",
    "                perted_init = X[-2].copy(); perted_init[j] += pert_strength\n",
    "                real_EC[j] += NextTR(W, perted_init, noise) - X[-1]\n",
    "    real_EC /= pert_count; np.fill_diagonal(real_EC, 0)\n",
    "    return np.array(X), real_EC"
   ]
  },
  {
   "cell_type": "markdown",
   "metadata": {},
   "source": [
    "### **RNN simulation**"
   ]
  },
  {
   "cell_type": "markdown",
   "metadata": {},
   "source": [
    "##### generate RNN synthetic neural data"
   ]
  },
  {
   "cell_type": "code",
   "execution_count": 4,
   "metadata": {},
   "outputs": [],
   "source": [
    "node_n      = 20\n",
    "data_length = 8000"
   ]
  },
  {
   "cell_type": "code",
   "execution_count": 5,
   "metadata": {},
   "outputs": [],
   "source": [
    "for random_seed in range(50):\n",
    "\n",
    "    np.random.seed(random_seed)\n",
    "    SC = np.random.normal(0, 1/np.sqrt(node_n), (node_n, node_n)); np.fill_diagonal(SC, 0)\n",
    "    init = np.random.normal(0, 1, (node_n))\n",
    "    signal, real_EC = RNN(SC, init, data_length)\n",
    "\n",
    "    np.savetxt('./sim_data/SC_{:03d}nodes_'.format(node_n) + '{:04d}steps_'.format(data_length) + '{:02d}seed.txt'.format(random_seed), SC)\n",
    "    np.savetxt('./sim_data/dynamics_{:03d}nodes_'.format(node_n) + '{:04d}steps_'.format(data_length) + '{:02d}seed.txt'.format(random_seed), signal)\n",
    "    np.savetxt('./sim_data/real_EC_{:03d}nodes_'.format(node_n) + '{:04d}steps_'.format(data_length) + '{:02d}seed.txt'.format(random_seed), real_EC)"
   ]
  },
  {
   "cell_type": "code",
   "execution_count": null,
   "metadata": {},
   "outputs": [],
   "source": []
  }
 ],
 "metadata": {
  "kernelspec": {
   "display_name": "connectome",
   "language": "python",
   "name": "python3"
  },
  "language_info": {
   "codemirror_mode": {
    "name": "ipython",
    "version": 3
   },
   "file_extension": ".py",
   "mimetype": "text/x-python",
   "name": "python",
   "nbconvert_exporter": "python",
   "pygments_lexer": "ipython3",
   "version": "3.11.7"
  }
 },
 "nbformat": 4,
 "nbformat_minor": 2
}
